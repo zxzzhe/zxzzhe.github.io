{
 "cells": [
  {
   "cell_type": "code",
   "execution_count": 13,
   "metadata": {},
   "outputs": [
    {
     "name": "stdout",
     "output_type": "stream",
     "text": [
      "1*1=1\t\n",
      "1*2=2\t2*2=4\t\n",
      "1*3=3\t2*3=6\t3*3=9\t\n",
      "1*4=4\t2*4=8\t3*4=12\t4*4=16\t\n",
      "1*5=5\t2*5=10\t3*5=15\t4*5=20\t5*5=25\t\n",
      "1*6=6\t2*6=12\t3*6=18\t4*6=24\t5*6=30\t6*6=36\t\n",
      "1*7=7\t2*7=14\t3*7=21\t4*7=28\t5*7=35\t6*7=42\t7*7=49\t\n",
      "1*8=8\t2*8=16\t3*8=24\t4*8=32\t5*8=40\t6*8=48\t7*8=56\t8*8=64\t\n",
      "1*9=9\t2*9=18\t3*9=27\t4*9=36\t5*9=45\t6*9=54\t7*9=63\t8*9=72\t9*9=81\t\n"
     ]
    }
   ],
   "source": [
    "for i in range(1,10):\n",
    "    for  j in range(1,i+1):\n",
    "        print('{}*{}={}'.format(j,i,i*j),end='\\t')\n",
    "    print()"
   ]
  },
  {
   "cell_type": "code",
   "execution_count": 21,
   "metadata": {},
   "outputs": [
    {
     "name": "stdout",
     "output_type": "stream",
     "text": [
      "A    15\n",
      "B    10\n",
      "C    10\n",
      "D    16\n",
      "E    29\n"
     ]
    }
   ],
   "source": [
    "a=[97, 90, 60, 82, 77, 44, 61, 63, 95, 59, 82, 95, 99, 92, 80, 47, 60, 78, 78, 59, 50, 51, 50, 41, 46, 75, 50, 56, 82, 52, 49, 64, 48, 74, 77, 64, 43, 65, 54, 69, 89, 59, 81, 47, 69, 95, 84, 92, 79, 92, 96, 47, 61, 64, 46, 48, 66, 84, 67, 47, 82, 67, 57, 64, 66, 90, 86, 71, 94, 93, 45, 74, 74, 56, 94, 56, 53, 54, 54, 95]\n",
    "A=0\n",
    "B=0\n",
    "C=0\n",
    "D=0\n",
    "E=0\n",
    "d={'A':A,'B':B,'C':C,'D':D,'E':E}\n",
    "for i in range(len(a)):\n",
    "    if a[i]>=90:\n",
    "        A+=1\n",
    "    elif a[i]<90 and a[i]>=80:\n",
    "        B+=1\n",
    "    elif a[i]<80 and a[i]>=70:\n",
    "        C+=1\n",
    "    elif a[i]<70 and a[i]>=60:\n",
    "        D+=1\n",
    "    elif a[i]<60:\n",
    "        E+=1\n",
    "d['A']=A\n",
    "d['B']=B\n",
    "d['C']=C\n",
    "d['D']=D\n",
    "d['E']=E\n",
    "for idx,value in d.items():\n",
    "    print(idx,'  ',value)"
   ]
  },
  {
   "cell_type": "code",
   "execution_count": 52,
   "metadata": {},
   "outputs": [
    {
     "name": "stdout",
     "output_type": "stream",
     "text": [
      "总路程为6.0米\n"
     ]
    }
   ],
   "source": [
    "from sympy import*\n",
    "x=Symbol('x')\n",
    "a=float(limit(2*(1-(1/2)**x)/(1-1/2),x,oo))\n",
    "print('总路程为{}米'.format(a+2))"
   ]
  },
  {
   "cell_type": "code",
   "execution_count": null,
   "metadata": {},
   "outputs": [],
   "source": []
  }
 ],
 "metadata": {
  "kernelspec": {
   "display_name": "Python 3",
   "language": "python",
   "name": "python3"
  },
  "language_info": {
   "codemirror_mode": {
    "name": "ipython",
    "version": 3
   },
   "file_extension": ".py",
   "mimetype": "text/x-python",
   "name": "python",
   "nbconvert_exporter": "python",
   "pygments_lexer": "ipython3",
   "version": "3.8.3"
  }
 },
 "nbformat": 4,
 "nbformat_minor": 4
}
