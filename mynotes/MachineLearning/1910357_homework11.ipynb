{
 "cells": [
  {
   "cell_type": "code",
   "execution_count": 19,
   "metadata": {},
   "outputs": [],
   "source": [
    "import pandas as pd\n",
    "import numpy as np\n",
    "import matplotlib.pyplot as plt\n",
    "def distance(D,rr,pt):\n",
    "    D1 = D.copy()\n",
    "    D1['dist'] = 0\n",
    "    for i in range(len(pt)):\n",
    "        D1['dist'] += (D1[D1.columns[i]] - pt[i])**2\n",
    "    D2 = D1[D1['dist']<=rr]\n",
    "    return D2\n",
    "\n",
    "def DBSCAN(D, rr, Minpts):\n",
    "    c=-1\n",
    "    D1 = D.copy()\n",
    "    D1['visit'] = 0\n",
    "    D1['cls'] = -1\n",
    "    n = len(D1)\n",
    "    while len(D1[D1['visit'] == 0]) > 0: \n",
    "        k = np.random.randint(n)\n",
    "        if D1.loc[D1.index[k],'visit'] == 0:\n",
    "            D1.loc[D1.index[k],'visit'] = 1\n",
    "        else:\n",
    "            continue\n",
    "            \n",
    "        if len(distance(D1, rr, D1.loc[df.index[k]])) >= Minpts:\n",
    "            c += 1\n",
    "            D1.loc[D1.index[k],'cls'] = c\n",
    "            N = distance(D1, rr, D1.loc[D1.index[k]])\n",
    "            \n",
    "            for i in N.index:\n",
    "                if D1.loc[D1.index[i], 'visit'] == 0:\n",
    "                    D1.loc[D1.index[i], 'visit'] = 1\n",
    "                    if len(distance(D1, rr, D1.loc[D1.index[i]])) >= Minpts:\n",
    "                        for j in distance(D1, rr, D1.loc[D1.index[i]]).index:\n",
    "                            N.append(D1.loc[D1.index[j]])\n",
    "                    if  D1.loc[D1.index[i], 'cls'] == -1:\n",
    "                           D1.loc[D1.index[i], 'cls'] = c\n",
    "    return D1\n",
    "def plot_class(df, cls_name='cls'):\n",
    "    marker = itertools.cycle(('ovspP*H+3XD>')) \n",
    "    cls_values = df[cls_name].unique()\n",
    "    cls_values.sort()\n",
    "    for item in cls_values:\n",
    "        plt.scatter(df[df[cls_name]==item].x, df[df[cls_name]==item].y, label=item, marker=next(marker))\n",
    "    plt.axis('equal')\n",
    "    plt.legend()"
   ]
  },
  {
   "cell_type": "code",
   "execution_count": 44,
   "metadata": {},
   "outputs": [
    {
     "data": {
      "image/png": "[encoded data removed]",
      "text/plain": [
       "<Figure size 432x288 with 1 Axes>"
      ]
     },
     "metadata": {
      "needs_background": "light"
     },
     "output_type": "display_data"
    }
   ],
   "source": [
    "df = pd.read_csv('datasets/Muller_p169.csv')\n",
    "df1 = DBSCAN(df,20,3)\n",
    "plot_class(df1)"
   ]
  },
  {
   "cell_type": "code",
   "execution_count": null,
   "metadata": {},
   "outputs": [],
   "source": []
  }
 ],
 "metadata": {
  "kernelspec": {
   "display_name": "Python 3",
   "language": "python",
   "name": "python3"
  },
  "language_info": {
   "codemirror_mode": {
    "name": "ipython",
    "version": 3
   },
   "file_extension": ".py",
   "mimetype": "text/x-python",
   "name": "python",
   "nbconvert_exporter": "python",
   "pygments_lexer": "ipython3",
   "version": "3.8.3"
  }
 },
 "nbformat": 4,
 "nbformat_minor": 4
}
