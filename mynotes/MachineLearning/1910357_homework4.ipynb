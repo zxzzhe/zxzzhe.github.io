{
 "cells": [
  {
   "cell_type": "code",
   "execution_count": 41,
   "metadata": {},
   "outputs": [],
   "source": [
    "with open('earthquake_data.csv','r',encoding='utf-8') as f:\n",
    "    lines=f.readlines()\n",
    "with open('earthquake_data2.csv','w',encoding='utf-8') as g:\n",
    "    for string in lines:\n",
    "        string=string.replace('内蒙古','内蒙古自治区')#string是字符串，代表一行\n",
    "        g.write(string)"
   ]
  },
  {
   "cell_type": "code",
   "execution_count": 7,
   "metadata": {},
   "outputs": [
    {
     "name": "stdout",
     "output_type": "stream",
     "text": [
      "2.0014134960941687\n"
     ]
    }
   ],
   "source": [
    "import math\n",
    "import random\n",
    "count=0\n",
    "num=2**18\n",
    "def y(x):\n",
    "    return math.sin(x)\n",
    "for i in range(num):\n",
    "    xRand,yRand=random.uniform(0,math.pi),random.random()\n",
    "    if yRand<=y(xRand):\n",
    "        count+=1\n",
    "result=math.pi*float(count)/float(num)\n",
    "print(result)"
   ]
  },
  {
   "cell_type": "code",
   "execution_count": 8,
   "metadata": {},
   "outputs": [
    {
     "name": "stdout",
     "output_type": "stream",
     "text": [
      "请输入一个数：17\n",
      "17\n"
     ]
    }
   ],
   "source": [
    "class fun:\n",
    "    def __init__(self,num):\n",
    "        self.num=num\n",
    "    def res(self):\n",
    "        vec1=[]\n",
    "        vec1.append(2)\n",
    "        for i in range(3,self.num+1):\n",
    "            for j in range(len(vec1)):\n",
    "                if i%vec1[j]==0:\n",
    "                    break\n",
    "                if i%vec1[j]!=0 and j==len(vec1)-1:\n",
    "                    vec1.append(i)\n",
    "        vec2=[0 for i in range(len(vec1))]\n",
    "        i=0\n",
    "        while i<len(vec1):\n",
    "            if self.num%vec1[i]==0:\n",
    "                self.num=self.num/vec1[i]\n",
    "                vec2[i]+=1\n",
    "            if self.num%vec1[i]!=0:\n",
    "                i+=1\n",
    "        vec3=[]\n",
    "        for i in range(len(vec2)):\n",
    "            if vec2[i]==1:\n",
    "                vec3.append(str(vec1[i]))\n",
    "            if vec2[i]>1:\n",
    "                vec3.append(str(vec1[i])+'**'+str(vec2[i]))\n",
    "        a=''\n",
    "        for i in range(len(vec3)):\n",
    "            if i<len(vec3)-1:\n",
    "                a=a+vec3[i]+'*'\n",
    "            else:\n",
    "                a=a+vec3[i]\n",
    "        print(a)\n",
    "x=int(input('请输入一个数：'))\n",
    "fun1=fun(x)\n",
    "fun1.res()"
   ]
  },
  {
   "cell_type": "code",
   "execution_count": null,
   "metadata": {},
   "outputs": [],
   "source": [
    "a="
   ]
  }
 ],
 "metadata": {
  "kernelspec": {
   "display_name": "Python 3",
   "language": "python",
   "name": "python3"
  },
  "language_info": {
   "codemirror_mode": {
    "name": "ipython",
    "version": 3
   },
   "file_extension": ".py",
   "mimetype": "text/x-python",
   "name": "python",
   "nbconvert_exporter": "python",
   "pygments_lexer": "ipython3",
   "version": "3.8.3"
  }
 },
 "nbformat": 4,
 "nbformat_minor": 4
}
