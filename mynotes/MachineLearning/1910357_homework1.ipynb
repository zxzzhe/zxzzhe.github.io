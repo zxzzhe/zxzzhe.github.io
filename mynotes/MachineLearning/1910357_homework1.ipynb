{
 "cells": [
  {
   "cell_type": "code",
   "execution_count": 8,
   "metadata": {},
   "outputs": [
    {
     "name": "stdout",
     "output_type": "stream",
     "text": [
      "7.3\n"
     ]
    }
   ],
   "source": [
    "a=[1.2,3.5,7.3,-4.2,2.7,8.6]\n",
    "a.sort()\n",
    "print(a[-2])"
   ]
  },
  {
   "cell_type": "code",
   "execution_count": 9,
   "metadata": {},
   "outputs": [
    {
     "name": "stdout",
     "output_type": "stream",
     "text": [
      "[True, True, False, False, False]\n"
     ]
    }
   ],
   "source": [
    "b=['97','80.5',3,4.7,'66.2']\n",
    "c=[float(b[i]) for i in range(len(b))]\n",
    "print([c[i]>70 for i in range(len(b))])"
   ]
  },
  {
   "cell_type": "code",
   "execution_count": 13,
   "metadata": {},
   "outputs": [
    {
     "name": "stdout",
     "output_type": "stream",
     "text": [
      "x0=13的序列为： [13, 40, 20, 10, 5, 16, 8, 4, 2, 1]\n",
      "序列长度最大的x0是：x0= 97\n"
     ]
    }
   ],
   "source": [
    "def fun(x0):\n",
    "    if x0%2==0:\n",
    "        x0=x0//2\n",
    "    else:\n",
    "        x0=3*x0+1\n",
    "    return x0\n",
    "def numlist(x0):\n",
    "    a=[]\n",
    "    while x0!=1:\n",
    "        a.append(x0)\n",
    "        x0=fun(x0)\n",
    "    a.append(1)\n",
    "    return a\n",
    "def length(x0):\n",
    "    a=[]\n",
    "    while x0!=1:\n",
    "        a.append(x0)\n",
    "        x0=fun(x0)\n",
    "    a.append(1)\n",
    "    return len(a)\n",
    "def longest():\n",
    "    b=length(2)\n",
    "    for i in range(3,101):\n",
    "        c=length(i)\n",
    "        if c>b:\n",
    "            b=c\n",
    "            d=i\n",
    "    return d\n",
    "print('x0=13的序列为：',numlist(13))\n",
    "print('序列长度最大的x0是：x0=',longest())"
   ]
  },
  {
   "cell_type": "code",
   "execution_count": null,
   "metadata": {},
   "outputs": [],
   "source": []
  }
 ],
 "metadata": {
  "kernelspec": {
   "display_name": "Python 3",
   "language": "python",
   "name": "python3"
  },
  "language_info": {
   "codemirror_mode": {
    "name": "ipython",
    "version": 3
   },
   "file_extension": ".py",
   "mimetype": "text/x-python",
   "name": "python",
   "nbconvert_exporter": "python",
   "pygments_lexer": "ipython3",
   "version": "3.8.3"
  }
 },
 "nbformat": 4,
 "nbformat_minor": 4
}
