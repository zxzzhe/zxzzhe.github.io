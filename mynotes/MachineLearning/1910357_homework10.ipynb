{
 "cells": [
  {
   "cell_type": "code",
   "execution_count": 2,
   "metadata": {},
   "outputs": [],
   "source": [
    "import numpy as np\n",
    "import matplotlib.pyplot as plt\n",
    "import pandas as pd\n",
    "def knn_pt(pt, df, k):\n",
    "    assert( len(pt)+1 == len(df.columns) )\n",
    "    df1 = df.copy()\n",
    "    df1['dist'] = 0 \n",
    "    for i in range(len(pt)):\n",
    "        df1['dist'] += (df1[df1.columns[i]] - pt[i])**2\n",
    "    df1['dist'] = np.sqrt(df1['dist'])\n",
    "    df2 = df1.sort_values(by='dist')\n",
    "    df2 = df2[:k] \n",
    "    target = df2[df2.columns[-2]].value_counts().index[0]\n",
    "    return target\n",
    "def knn(predict, df, k, class_name='cls'):\n",
    "    assert( len(predict.columns)+1 == len(df.columns) )\n",
    "    def func1(pt):\n",
    "        return knn_pt(pt, df, k)\n",
    "    predict1 = predict.copy()\n",
    "    predict1[class_name] = predict1.apply(func1, axis=1)\n",
    "    return predict1"
   ]
  },
  {
   "cell_type": "code",
   "execution_count": 5,
   "metadata": {},
   "outputs": [
    {
     "data": {
      "text/plain": [
       "<matplotlib.legend.Legend at 0x263c8073e80>"
      ]
     },
     "execution_count": 5,
     "metadata": {},
     "output_type": "execute_result"
    },
    {
     "data": {
      "image/png": "[encoded data removed]",
      "text/plain": [
       "<Figure size 432x288 with 1 Axes>"
      ]
     },
     "metadata": {
      "needs_background": "light"
     },
     "output_type": "display_data"
    }
   ],
   "source": [
    "df=pd.read_csv('datasets/Muller_p122_circle.csv')\n",
    "s=[]\n",
    "while len(s)<2/3*len(df):\n",
    "    a=np.random.randint(len(df))\n",
    "    if a not in s:\n",
    "        s.append(a)\n",
    "\n",
    "\n",
    "cut = len(df)//3\n",
    "\n",
    "train = df.iloc[cut:].copy()\n",
    "test = df.iloc[:cut].copy()\n",
    "x = np.linspace(train.x.min(), df.x.max(), 50)\n",
    "y = np.linspace(train.y.min(), df.y.max(), 50)\n",
    "xv, yv = np.meshgrid(x, y)\n",
    "grid = np.vstack((xv.flatten(), yv.flatten())).T\n",
    "predict = pd.DataFrame(grid, columns=['x','y'])\n",
    "\n",
    "res = knn(predict, train, 3)\n",
    "plt.scatter(res[res.cls==0].x, res[res.cls==0].y, label='0')\n",
    "plt.scatter(res[res.cls==1].x, res[res.cls==1].y, label='1', marker='>')\n",
    "plt.scatter(train[train.cls==0].x, train[train.cls==0].y, label='0')\n",
    "plt.scatter(train[train.cls==1].x, train[train.cls==1].y, label='1', marker='>')\n",
    "plt.axis('equal')\n",
    "plt.legend()"
   ]
  },
  {
   "cell_type": "code",
   "execution_count": 53,
   "metadata": {},
   "outputs": [
    {
     "data": {
      "text/plain": [
       "True     0.606061\n",
       "False    0.393939\n",
       "Name: cls, dtype: float64"
      ]
     },
     "execution_count": 53,
     "metadata": {},
     "output_type": "execute_result"
    }
   ],
   "source": [
    "predict = test.drop(columns='cls')\n",
    "res = knn(predict, train, 3)\n",
    "result=(test.cls == res.cls).value_counts()/len(test)\n",
    "result"
   ]
  },
  {
   "cell_type": "code",
   "execution_count": 8,
   "metadata": {},
   "outputs": [
    {
     "ename": "ValueError",
     "evalue": "The truth value of an array with more than one element is ambiguous. Use a.any() or a.all()",
     "output_type": "error",
     "traceback": [
      "\u001b[1;31m---------------------------------------------------------------------------\u001b[0m",
      "\u001b[1;31mValueError\u001b[0m                                Traceback (most recent call last)",
      "\u001b[1;32m<ipython-input-8-e3dfc14d9cbc>\u001b[0m in \u001b[0;36m<module>\u001b[1;34m\u001b[0m\n\u001b[0;32m      5\u001b[0m     \u001b[1;32mif\u001b[0m \u001b[0ma\u001b[0m \u001b[1;32mnot\u001b[0m \u001b[1;32min\u001b[0m \u001b[0ms\u001b[0m\u001b[1;33m:\u001b[0m\u001b[1;33m\u001b[0m\u001b[1;33m\u001b[0m\u001b[0m\n\u001b[0;32m      6\u001b[0m         \u001b[0ms\u001b[0m\u001b[1;33m.\u001b[0m\u001b[0mappend\u001b[0m\u001b[1;33m(\u001b[0m\u001b[0ma\u001b[0m\u001b[1;33m)\u001b[0m\u001b[1;33m\u001b[0m\u001b[1;33m\u001b[0m\u001b[0m\n\u001b[1;32m----> 7\u001b[1;33m \u001b[0mdf\u001b[0m\u001b[1;33m.\u001b[0m\u001b[0mindex\u001b[0m \u001b[1;32min\u001b[0m \u001b[0ms\u001b[0m\u001b[1;33m\u001b[0m\u001b[1;33m\u001b[0m\u001b[0m\n\u001b[0m",
      "\u001b[1;31mValueError\u001b[0m: The truth value of an array with more than one element is ambiguous. Use a.any() or a.all()"
     ]
    }
   ],
   "source": [
    "df=pd.read_csv('datasets/Muller_p122_circle.csv')\n",
    "s=[]\n",
    "while len(s)<2/3*len(df):\n",
    "    a=np.random.randint(len(df))\n",
    "    if a not in s:\n",
    "        s.append(a)\n",
    "df.index in s"
   ]
  },
  {
   "cell_type": "code",
   "execution_count": null,
   "metadata": {},
   "outputs": [],
   "source": []
  }
 ],
 "metadata": {
  "kernelspec": {
   "display_name": "Python 3",
   "language": "python",
   "name": "python3"
  },
  "language_info": {
   "codemirror_mode": {
    "name": "ipython",
    "version": 3
   },
   "file_extension": ".py",
   "mimetype": "text/x-python",
   "name": "python",
   "nbconvert_exporter": "python",
   "pygments_lexer": "ipython3",
   "version": "3.8.3"
  }
 },
 "nbformat": 4,
 "nbformat_minor": 4
}
